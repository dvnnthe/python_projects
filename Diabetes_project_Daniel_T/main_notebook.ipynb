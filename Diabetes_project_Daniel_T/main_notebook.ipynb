{
 "cells": [
  {
   "cell_type": "markdown",
   "source": [
    " # Project description\n",
    " #### Author: Daniel Trzópek"
   ],
   "metadata": {
    "collapsed": false
   }
  },
  {
   "cell_type": "markdown",
   "source": [
    "The target of this project is creation of a machine learning model, that will be able to predict occuring of the diabetes of the female patients. Used dataset is based on the Pima Indians Diabetes Database.\n",
    "The data consist of many variables, such as:\n",
    "- number of pregnancies\n",
    "- glucose level\n",
    "- blood pressure\n",
    "- age, BMI, insulin level and others\n",
    "\n",
    "Generally enclosed data consists of many factors that might influcence the occuring of the diabetes.\n",
    "\n",
    "The following project will be split into several sections.\n",
    "The analysis and conclusions will be involved in the shape of markdown cells, and the code parts will be commented in the code cells."
   ],
   "metadata": {
    "collapsed": false
   }
  },
  {
   "cell_type": "code",
   "execution_count": null,
   "outputs": [],
   "source": [],
   "metadata": {
    "collapsed": false
   }
  }
 ],
 "metadata": {
  "kernelspec": {
   "display_name": "Python 3",
   "language": "python",
   "name": "python3"
  },
  "language_info": {
   "codemirror_mode": {
    "name": "ipython",
    "version": 2
   },
   "file_extension": ".py",
   "mimetype": "text/x-python",
   "name": "python",
   "nbconvert_exporter": "python",
   "pygments_lexer": "ipython2",
   "version": "2.7.6"
  }
 },
 "nbformat": 4,
 "nbformat_minor": 0
}
